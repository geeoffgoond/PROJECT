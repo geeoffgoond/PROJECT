{
 "cells": [
  {
   "cell_type": "code",
   "execution_count": null,
   "metadata": {
    "collapsed": true
   },
   "outputs": [],
   "source": [
    "#%% specifying data location data from gitHub, preparing data\n",
    "\n",
    "import os\n",
    "import xlrd\n",
    "#folderData=\"https://raw.githubusercontent.com/geeoffgoond/project/master/\"\n",
    "folderData=\"https://rawgit.com/geeoffgoond/project/master/\"\n",
    "fileXL=os.path.join(folderData,\"2015-pr1-hhsurvey-household.xlsx\")\n",
    "\n",
    "# importing data into pandas\n",
    "import pandas as pd\n",
    "\n",
    "psrchh=pd.read_excel(fileXL)"
   ]
  }
 ],
 "metadata": {
  "kernelspec": {
   "display_name": "Python 3",
   "language": "python",
   "name": "python3"
  },
  "language_info": {
   "codemirror_mode": {
    "name": "ipython",
    "version": 3
   },
   "file_extension": ".py",
   "mimetype": "text/x-python",
   "name": "python",
   "nbconvert_exporter": "python",
   "pygments_lexer": "ipython3",
   "version": "3.6.3"
  }
 },
 "nbformat": 4,
 "nbformat_minor": 2
}
